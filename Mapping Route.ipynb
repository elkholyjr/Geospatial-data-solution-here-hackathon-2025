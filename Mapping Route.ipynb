{
 "cells": [
  {
   "cell_type": "code",
   "execution_count": 1,
   "id": "839a2dea-0c7b-4bc0-81c5-1a6cfe7a34d9",
   "metadata": {},
   "outputs": [
    {
     "name": "stdout",
     "output_type": "stream",
     "text": [
      "Jupyter environment detected. Enabling Open3D WebVisualizer.\n",
      "[Open3D INFO] WebRTC GUI backend enabled.\n",
      "[Open3D INFO] WebRTCWindowSystem: HTTP handshake server disabled.\n"
     ]
    }
   ],
   "source": [
    "import laspy\n",
    "import open3d as o3d\n",
    "import numpy as np\n",
    "import matplotlib.pyplot as plt\n",
    "import pandas as pd\n",
    "import geopandas as gpd\n",
    "import folium\n",
    "from shapely.geometry import box, LineString"
   ]
  },
  {
   "cell_type": "markdown",
   "id": "dab4bd6f-93f2-4940-bb2b-9e48a8bada5f",
   "metadata": {},
   "source": [
    "# Loading"
   ]
  },
  {
   "cell_type": "code",
   "execution_count": 47,
   "id": "f9a7aa74-a24c-4036-a336-a105a43febd0",
   "metadata": {},
   "outputs": [
    {
     "data": {
      "text/plain": [
       "<LasHeader(1.2, <PointFormat(0, 0 bytes of extra dims)>)>"
      ]
     },
     "execution_count": 47,
     "metadata": {},
     "output_type": "execute_result"
    }
   ],
   "source": [
    "las = laspy.read('data/HT412_1743085214_3237183_1427127638184903_1427127806163693.las')\n",
    "las.header"
   ]
  },
  {
   "cell_type": "code",
   "execution_count": 48,
   "id": "1a780129-1e1f-4536-a183-3a0f50bb79be",
   "metadata": {},
   "outputs": [
    {
     "data": {
      "text/plain": [
       "<Geographic 2D CRS: EPSG:4326>\n",
       "Name: WGS 84\n",
       "Axis Info [ellipsoidal]:\n",
       "- Lat[north]: Geodetic latitude (degree)\n",
       "- Lon[east]: Geodetic longitude (degree)\n",
       "Area of Use:\n",
       "- name: World.\n",
       "- bounds: (-180.0, -90.0, 180.0, 90.0)\n",
       "Datum: World Geodetic System 1984 ensemble\n",
       "- Ellipsoid: WGS 84\n",
       "- Prime Meridian: Greenwich"
      ]
     },
     "execution_count": 48,
     "metadata": {},
     "output_type": "execute_result"
    }
   ],
   "source": [
    "las.header.parse_crs()"
   ]
  },
  {
   "cell_type": "markdown",
   "id": "a4ca356f-f5a2-4c1b-a318-fdf627382b63",
   "metadata": {},
   "source": [
    "# Converting to EPSG:4326"
   ]
  },
  {
   "cell_type": "code",
   "execution_count": 49,
   "id": "95534766-4d9f-4ca5-b455-f2fa8430aa6e",
   "metadata": {},
   "outputs": [],
   "source": [
    "X_corrected = las.X * las.header.scales[0] + las.header.offsets[0]\n",
    "Y_corrected = las.Y * las.header.scales[1] + las.header.offsets[1]\n",
    "Z_corrected = las.Z * las.header.scales[2] + las.header.offsets[2]"
   ]
  },
  {
   "cell_type": "code",
   "execution_count": 50,
   "id": "0bb7df85-8013-4f8c-b465-e69504a057c9",
   "metadata": {},
   "outputs": [
    {
     "data": {
      "text/plain": [
       "(np.float64(11.605219216536979),\n",
       " np.float64(11.652211816536978),\n",
       " np.float64(48.20662813364922),\n",
       " np.float64(48.22857350864922),\n",
       " np.float64(520.7259527041539),\n",
       " np.float64(571.7734527041539))"
      ]
     },
     "execution_count": 50,
     "metadata": {},
     "output_type": "execute_result"
    }
   ],
   "source": [
    "X_corrected.min(), X_corrected.max(), Y_corrected.min(), Y_corrected.max(), Z_corrected.min(), Z_corrected.max()"
   ]
  },
  {
   "cell_type": "code",
   "execution_count": 51,
   "id": "f6217999-dfab-4147-b71a-2a53f6a2bc16",
   "metadata": {},
   "outputs": [],
   "source": [
    "data = np.stack([las.X, las.Y, las.Z, X_corrected, Y_corrected, Z_corrected, las.intensity, las.scan_angle_rank, las.user_data, las.point_source_id], axis=0).T\n",
    "data = pd.DataFrame(data)\n",
    "data.columns = ['X',\n",
    "                'Y',\n",
    "                'Z',\n",
    "                'X_corrected',\n",
    "                'Y_corrected',\n",
    "                'Z_corrected',\n",
    "                'intensity',\n",
    "                'scan_angle_rank',\n",
    "                'user_data',\n",
    "                'point_source_id']"
   ]
  },
  {
   "cell_type": "markdown",
   "id": "83f9d9e9-66dc-4295-9d80-b929b9f11a5f",
   "metadata": {},
   "source": [
    "# Mapping"
   ]
  },
  {
   "cell_type": "code",
   "execution_count": 53,
   "id": "2d2a05ff-5c53-4ffb-9b32-f1f889fbd02e",
   "metadata": {},
   "outputs": [
    {
     "data": {
      "text/html": [
       "<div style=\"width:100%;\"><div style=\"position:relative;width:100%;height:0;padding-bottom:60%;\"><span style=\"color:#565656\">Make this Notebook Trusted to load map: File -> Trust Notebook</span><iframe srcdoc=\"&lt;!DOCTYPE html&gt;\n",
       "&lt;html&gt;\n",
       "&lt;head&gt;\n",
       "    \n",
       "    &lt;meta http-equiv=&quot;content-type&quot; content=&quot;text/html; charset=UTF-8&quot; /&gt;\n",
       "    &lt;script src=&quot;https://cdn.jsdelivr.net/npm/leaflet@1.9.3/dist/leaflet.js&quot;&gt;&lt;/script&gt;\n",
       "    &lt;script src=&quot;https://code.jquery.com/jquery-3.7.1.min.js&quot;&gt;&lt;/script&gt;\n",
       "    &lt;script src=&quot;https://cdn.jsdelivr.net/npm/bootstrap@5.2.2/dist/js/bootstrap.bundle.min.js&quot;&gt;&lt;/script&gt;\n",
       "    &lt;script src=&quot;https://cdnjs.cloudflare.com/ajax/libs/Leaflet.awesome-markers/2.0.2/leaflet.awesome-markers.js&quot;&gt;&lt;/script&gt;\n",
       "    &lt;link rel=&quot;stylesheet&quot; href=&quot;https://cdn.jsdelivr.net/npm/leaflet@1.9.3/dist/leaflet.css&quot;/&gt;\n",
       "    &lt;link rel=&quot;stylesheet&quot; href=&quot;https://cdn.jsdelivr.net/npm/bootstrap@5.2.2/dist/css/bootstrap.min.css&quot;/&gt;\n",
       "    &lt;link rel=&quot;stylesheet&quot; href=&quot;https://netdna.bootstrapcdn.com/bootstrap/3.0.0/css/bootstrap-glyphicons.css&quot;/&gt;\n",
       "    &lt;link rel=&quot;stylesheet&quot; href=&quot;https://cdn.jsdelivr.net/npm/@fortawesome/fontawesome-free@6.2.0/css/all.min.css&quot;/&gt;\n",
       "    &lt;link rel=&quot;stylesheet&quot; href=&quot;https://cdnjs.cloudflare.com/ajax/libs/Leaflet.awesome-markers/2.0.2/leaflet.awesome-markers.css&quot;/&gt;\n",
       "    &lt;link rel=&quot;stylesheet&quot; href=&quot;https://cdn.jsdelivr.net/gh/python-visualization/folium/folium/templates/leaflet.awesome.rotate.min.css&quot;/&gt;\n",
       "    \n",
       "            &lt;meta name=&quot;viewport&quot; content=&quot;width=device-width,\n",
       "                initial-scale=1.0, maximum-scale=1.0, user-scalable=no&quot; /&gt;\n",
       "            &lt;style&gt;\n",
       "                #map_3cdb57abdd8130d199381f2b253cdc50 {\n",
       "                    position: relative;\n",
       "                    width: 100.0%;\n",
       "                    height: 100.0%;\n",
       "                    left: 0.0%;\n",
       "                    top: 0.0%;\n",
       "                }\n",
       "                .leaflet-container { font-size: 1rem; }\n",
       "            &lt;/style&gt;\n",
       "\n",
       "            &lt;style&gt;html, body {\n",
       "                width: 100%;\n",
       "                height: 100%;\n",
       "                margin: 0;\n",
       "                padding: 0;\n",
       "            }\n",
       "            &lt;/style&gt;\n",
       "\n",
       "            &lt;style&gt;#map {\n",
       "                position:absolute;\n",
       "                top:0;\n",
       "                bottom:0;\n",
       "                right:0;\n",
       "                left:0;\n",
       "                }\n",
       "            &lt;/style&gt;\n",
       "\n",
       "            &lt;script&gt;\n",
       "                L_NO_TOUCH = false;\n",
       "                L_DISABLE_3D = false;\n",
       "            &lt;/script&gt;\n",
       "\n",
       "        \n",
       "&lt;/head&gt;\n",
       "&lt;body&gt;\n",
       "    \n",
       "    \n",
       "            &lt;div class=&quot;folium-map&quot; id=&quot;map_3cdb57abdd8130d199381f2b253cdc50&quot; &gt;&lt;/div&gt;\n",
       "        \n",
       "&lt;/body&gt;\n",
       "&lt;script&gt;\n",
       "    \n",
       "    \n",
       "            var map_3cdb57abdd8130d199381f2b253cdc50 = L.map(\n",
       "                &quot;map_3cdb57abdd8130d199381f2b253cdc50&quot;,\n",
       "                {\n",
       "                    center: [48.21760082114922, 11.628715516536978],\n",
       "                    crs: L.CRS.EPSG3857,\n",
       "                    ...{\n",
       "  &quot;zoom&quot;: 14,\n",
       "  &quot;zoomControl&quot;: true,\n",
       "  &quot;preferCanvas&quot;: false,\n",
       "}\n",
       "\n",
       "                }\n",
       "            );\n",
       "\n",
       "            \n",
       "\n",
       "        \n",
       "    \n",
       "            var tile_layer_dd01f18bea20dca8b52697a052cbdc8a = L.tileLayer(\n",
       "                &quot;https://tile.openstreetmap.org/{z}/{x}/{y}.png&quot;,\n",
       "                {\n",
       "  &quot;minZoom&quot;: 0,\n",
       "  &quot;maxZoom&quot;: 19,\n",
       "  &quot;maxNativeZoom&quot;: 19,\n",
       "  &quot;noWrap&quot;: false,\n",
       "  &quot;attribution&quot;: &quot;\\u0026copy; \\u003ca href=\\&quot;https://www.openstreetmap.org/copyright\\&quot;\\u003eOpenStreetMap\\u003c/a\\u003e contributors&quot;,\n",
       "  &quot;subdomains&quot;: &quot;abc&quot;,\n",
       "  &quot;detectRetina&quot;: false,\n",
       "  &quot;tms&quot;: false,\n",
       "  &quot;opacity&quot;: 1,\n",
       "}\n",
       "\n",
       "            );\n",
       "        \n",
       "    \n",
       "            tile_layer_dd01f18bea20dca8b52697a052cbdc8a.addTo(map_3cdb57abdd8130d199381f2b253cdc50);\n",
       "        \n",
       "    \n",
       "\n",
       "        function geo_json_f668f533087cfa8f915a9d3926cdef6d_onEachFeature(feature, layer) {\n",
       "\n",
       "            layer.on({\n",
       "            });\n",
       "        };\n",
       "        var geo_json_f668f533087cfa8f915a9d3926cdef6d = L.geoJson(null, {\n",
       "                onEachFeature: geo_json_f668f533087cfa8f915a9d3926cdef6d_onEachFeature,\n",
       "            \n",
       "            ...{\n",
       "}\n",
       "        });\n",
       "\n",
       "        function geo_json_f668f533087cfa8f915a9d3926cdef6d_add (data) {\n",
       "            geo_json_f668f533087cfa8f915a9d3926cdef6d\n",
       "                .addData(data);\n",
       "        }\n",
       "            geo_json_f668f533087cfa8f915a9d3926cdef6d_add({&quot;bbox&quot;: [11.609210716536978, 48.20827780864922, 11.649560716536978, 48.227331958649216], &quot;features&quot;: [{&quot;bbox&quot;: [11.609210716536978, 48.20827780864922, 11.649560716536978, 48.227331958649216], &quot;geometry&quot;: {&quot;coordinates&quot;: [[11.609210716536978, 48.227331958649216], [11.616419391536978, 48.22567273364922], [11.623285916536977, 48.22348260864922], [11.630710841536978, 48.22022040864922], [11.637502666536978, 48.21640595864922], [11.644271241536979, 48.21187510864922], [11.649560716536978, 48.20827780864922]], &quot;type&quot;: &quot;LineString&quot;}, &quot;id&quot;: &quot;0&quot;, &quot;properties&quot;: {}, &quot;type&quot;: &quot;Feature&quot;}], &quot;type&quot;: &quot;FeatureCollection&quot;});\n",
       "        geo_json_f668f533087cfa8f915a9d3926cdef6d.setStyle(function(feature) {return feature.properties.style;});\n",
       "\n",
       "        \n",
       "    \n",
       "            geo_json_f668f533087cfa8f915a9d3926cdef6d.addTo(map_3cdb57abdd8130d199381f2b253cdc50);\n",
       "        \n",
       "    \n",
       "            tile_layer_dd01f18bea20dca8b52697a052cbdc8a.addTo(map_3cdb57abdd8130d199381f2b253cdc50);\n",
       "        \n",
       "    \n",
       "            geo_json_f668f533087cfa8f915a9d3926cdef6d.addTo(map_3cdb57abdd8130d199381f2b253cdc50);\n",
       "        \n",
       "&lt;/script&gt;\n",
       "&lt;/html&gt;\" style=\"position:absolute;width:100%;height:100%;left:0;top:0;border:none !important;\" allowfullscreen webkitallowfullscreen mozallowfullscreen></iframe></div></div>"
      ],
      "text/plain": [
       "<folium.folium.Map at 0x235bfa80650>"
      ]
     },
     "execution_count": 53,
     "metadata": {},
     "output_type": "execute_result"
    }
   ],
   "source": [
    "x_min, x_max, y_min, y_max = X_corrected.min() , X_corrected.max(), Y_corrected.min() , Y_corrected.max()\n",
    "\n",
    "center_lat = (y_min + y_max) / 2\n",
    "center_lon = (x_min + x_max) / 2\n",
    "\n",
    "N = 10000000\n",
    "\n",
    "chunk_indices = np.arange(len(data)) // N\n",
    "reduced = data.groupby(chunk_indices)[['X_corrected', 'Y_corrected']].median().reset_index(drop=True)\n",
    "\n",
    "coords = list(zip(reduced['X_corrected'], reduced['Y_corrected']))\n",
    "\n",
    "line = LineString(coords)\n",
    "gdf = gpd.GeoDataFrame({'geometry': [line]}, crs='EPSG:4326')\n",
    "\n",
    "m = folium.Map(location=[center_lat, center_lon], zoom_start=14, tiles='OpenStreetMap')\n",
    "\n",
    "folium.GeoJson(gdf).add_to(m)\n",
    "\n",
    "m.save(\"bounding_box_map.html\")\n",
    "m"
   ]
  }
 ],
 "metadata": {
  "kernelspec": {
   "display_name": "Python 3 (ipykernel)",
   "language": "python",
   "name": "python3"
  },
  "language_info": {
   "codemirror_mode": {
    "name": "ipython",
    "version": 3
   },
   "file_extension": ".py",
   "mimetype": "text/x-python",
   "name": "python",
   "nbconvert_exporter": "python",
   "pygments_lexer": "ipython3",
   "version": "3.11.13"
  }
 },
 "nbformat": 4,
 "nbformat_minor": 5
}
